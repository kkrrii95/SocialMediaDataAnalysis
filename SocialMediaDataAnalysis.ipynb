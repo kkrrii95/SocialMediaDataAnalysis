{
 "cells": [
  {
   "cell_type": "markdown",
   "metadata": {},
   "source": [
    "# Clean & Analyze Social Media"
   ]
  },
  {
   "cell_type": "markdown",
   "metadata": {},
   "source": [
    "## Introduction\n",
    "\n",
    "Social media has become a ubiquitous part of modern life, with platforms such as Instagram, Twitter, and Facebook serving as essential communication channels. Social media data sets are vast and complex, making analysis a challenging task for businesses and researchers alike. In this project, we explore a simulated social media, for example Tweets, data set to understand trends in likes across different categories.\n",
    "\n",
    "## Prerequisites\n",
    "\n",
    "To follow along with this project, you should have a basic understanding of Python programming and data analysis concepts. In addition, you may want to use the following packages in your Python environment:\n",
    "\n",
    "- pandas\n",
    "- Matplotlib\n",
    "- ...\n",
    "\n",
    "These packages should already be installed in Coursera's Jupyter Notebook environment, however if you'd like to install additional packages that are not included in this environment or are working off platform you can install additional packages using `!pip install packagename` within a notebook cell such as:\n",
    "\n",
    "- `!pip install pandas`\n",
    "- `!pip install matplotlib`\n",
    "\n",
    "## Project Scope\n",
    "\n",
    "The objective of this project is to analyze tweets (or other social media data) and gain insights into user engagement. We will explore the data set using visualization techniques to understand the distribution of likes across different categories. Finally, we will analyze the data to draw conclusions about the most popular categories and the overall engagement on the platform.\n",
    "\n",
    "## Step 1: Importing Required Libraries\n",
    "\n",
    "As the name suggests, the first step is to import all the necessary libraries that will be used in the project. In this case, we need pandas, numpy, matplotlib, seaborn, and random libraries.\n",
    "\n",
    "Pandas is a library used for data manipulation and analysis. Numpy is a library used for numerical computations. Matplotlib is a library used for data visualization. Seaborn is a library used for statistical data visualization. Random is a library used to generate random numbers."
   ]
  },
  {
   "cell_type": "code",
   "execution_count": 25,
   "metadata": {},
   "outputs": [],
   "source": [
    "import pandas as pd\n",
    "import numpy as np\n",
    "import matplotlib.pyplot as plt\n",
    "import seaborn as sns\n",
    "import random #Imports all libraries and declares them\n"
   ]
  },
  {
   "cell_type": "code",
   "execution_count": 63,
   "metadata": {},
   "outputs": [
    {
     "name": "stdout",
     "output_type": "stream",
     "text": [
      "          Date Category Post Type  Likes  Gender  Comments  Age\n",
      "0   2021-01-01  Culture     Video   1828       0      5869   14\n",
      "1   2021-01-02  Culture     Image   4950       1      5210   17\n",
      "2   2021-01-03   Travel     Image   8626       0      9461   60\n",
      "3   2021-01-04   Health     Image   5860       1      3160   55\n",
      "4   2021-01-05  Fashion      Text   4241       1      7224   14\n",
      "..         ...      ...       ...    ...     ...       ...  ...\n",
      "495 2022-05-11     Food     Video   7319       0      6121   18\n",
      "496 2022-05-12  Fashion     Video   9834       0      8439   53\n",
      "497 2022-05-13  Culture     Image   4946       0      3808   82\n",
      "498 2022-05-14  Culture      Text   5195       0       963   94\n",
      "499 2022-05-15  Culture     Video   9325       0      5183   99\n",
      "\n",
      "[500 rows x 7 columns]\n"
     ]
    }
   ],
   "source": [
    "categories = ['Food', 'Travel', 'Fashion', 'Fitness', 'Music', 'Culture', 'Family', 'Health']\n",
    "n = 500\n",
    "data = {\n",
    "    'Date': pd.date_range('2021-01-01', periods=n),\n",
    "    'Category': [random.choice(categories) for _ in range(n)],\n",
    "    'Post Type': [random.choice(['Text', 'Image', 'Video']) for _ in range(n)],\n",
    "    'Likes': np.random.randint(0, 10000, size=n),\n",
    "    'Gender': np.random.randint(0, 2, size=n), #0 Female, 1 Male, 2 is cutoff exclusive\n",
    "    'Comments': np.random.randint(0, 10000, size=n),\n",
    "    'Age': np.random.randint(13, 100, size=n)\n",
    "}\n",
    "df = pd.DataFrame(data)\n",
    "print(df.head(n)) # Generates random data dictionary"
   ]
  },
  {
   "cell_type": "code",
   "execution_count": 64,
   "metadata": {},
   "outputs": [
    {
     "name": "stdout",
     "output_type": "stream",
     "text": [
      "DataFrame Head:\n",
      "        Date Category Post Type  Likes  Gender  Comments  Age\n",
      "0 2021-01-01  Culture     Video   1828       0      5869   14\n",
      "1 2021-01-02  Culture     Image   4950       1      5210   17\n",
      "2 2021-01-03   Travel     Image   8626       0      9461   60\n",
      "3 2021-01-04   Health     Image   5860       1      3160   55\n",
      "4 2021-01-05  Fashion      Text   4241       1      7224   14\n",
      "\n",
      "DataFrame Information:\n",
      "<class 'pandas.core.frame.DataFrame'>\n",
      "RangeIndex: 500 entries, 0 to 499\n",
      "Data columns (total 7 columns):\n",
      " #   Column     Non-Null Count  Dtype         \n",
      "---  ------     --------------  -----         \n",
      " 0   Date       500 non-null    datetime64[ns]\n",
      " 1   Category   500 non-null    object        \n",
      " 2   Post Type  500 non-null    object        \n",
      " 3   Likes      500 non-null    int64         \n",
      " 4   Gender     500 non-null    int64         \n",
      " 5   Comments   500 non-null    int64         \n",
      " 6   Age        500 non-null    int64         \n",
      "dtypes: datetime64[ns](1), int64(4), object(2)\n",
      "memory usage: 27.5+ KB\n",
      "None\n",
      "\n",
      "DataFrame Description:\n",
      "             Likes      Gender     Comments         Age\n",
      "count   500.000000  500.000000   500.000000  500.000000\n",
      "mean   5182.414000    0.512000  4831.014000   55.070000\n",
      "std    2823.576396    0.500357  2947.678456   24.728204\n",
      "min      23.000000    0.000000     6.000000   13.000000\n",
      "25%    2650.000000    0.000000  2278.000000   34.000000\n",
      "50%    5240.000000    1.000000  4709.000000   55.000000\n",
      "75%    7594.000000    1.000000  7606.750000   77.000000\n",
      "max    9989.000000    1.000000  9996.000000   99.000000\n",
      "\n",
      "Count of each 'Category' element:\n",
      "Fashion    73\n",
      "Family     71\n",
      "Culture    70\n",
      "Travel     64\n",
      "Food       60\n",
      "Health     58\n",
      "Fitness    52\n",
      "Music      52\n",
      "Name: Category, dtype: int64\n"
     ]
    }
   ],
   "source": [
    "df = pd.DataFrame(data) # Load data into a Pandas DataFrame\n",
    "print(\"DataFrame Head:\")\n",
    "print(df.head())\n",
    "print(\"\\nDataFrame Information:\")\n",
    "print(df.info())\n",
    "print(\"\\nDataFrame Description:\") # Descriptive statistics of the DataFrame\n",
    "print(df.describe())\n",
    "category_count = df['Category'].value_counts()\n",
    "print(\"\\nCount of each 'Category' element:\")\n",
    "print(category_count)"
   ]
  },
  {
   "cell_type": "code",
   "execution_count": 65,
   "metadata": {},
   "outputs": [],
   "source": [
    "df.dropna(inplace=True)\n",
    "df.drop_duplicates(inplace=True)\n",
    "df['Date'] = pd.to_datetime(df['Date'])\n",
    "df['Likes'] = df['Likes'].astype(int) # Cleans any nulls and duplicates and turns dates into something computer understands, in this case an integer.\n"
   ]
  },
  {
   "cell_type": "code",
   "execution_count": 75,
   "metadata": {},
   "outputs": [
    {
     "data": {
      "image/png": "[encoded data removed]",
      "text/plain": [
       "<Figure size 432x288 with 1 Axes>"
      ]
     },
     "metadata": {
      "needs_background": "light"
     },
     "output_type": "display_data"
    }
   ],
   "source": [
    "sns.distplot(df['Likes'], kde=False, color='#FF0000')\n",
    "plt.xlabel('Likes')\n",
    "plt.ylabel('Density') # How often event occurs\n",
    "plt.title('Distribution of Likes')\n",
    "plt.show()"
   ]
  },
  {
   "cell_type": "code",
   "execution_count": 67,
   "metadata": {},
   "outputs": [
    {
     "data": {
      "image/png": "[encoded data removed]",
      "text/plain": [
       "<Figure size 432x288 with 1 Axes>"
      ]
     },
     "metadata": {
      "needs_background": "light"
     },
     "output_type": "display_data"
    }
   ],
   "source": [
    "sns.boxplot(x='Category', y='Likes', data=df)\n",
    "plt.show() #Category vs Likes"
   ]
  },
  {
   "cell_type": "code",
   "execution_count": 77,
   "metadata": {},
   "outputs": [
    {
     "name": "stdout",
     "output_type": "stream",
     "text": [
      "\n",
      "Mean of 'Likes': 5182.41\n",
      "\n",
      "Mean Likes for each Category:\n",
      "Category\n",
      "Culture    4985.142857\n",
      "Family     5367.422535\n",
      "Fashion    5170.506849\n",
      "Fitness    6270.923077\n",
      "Food       4873.700000\n",
      "Health     4468.017241\n",
      "Music      4998.673077\n",
      "Travel     5408.234375\n",
      "Name: Likes, dtype: float64\n"
     ]
    }
   ],
   "source": [
    "likes_mean = df['Likes'].mean()\n",
    "print(f\"\\nMean of 'Likes': {likes_mean:.2f}\")\n",
    "\n",
    "# Mean of 'Likes' for each Category\n",
    "category_likes_mean = df.groupby('Category')['Likes'].mean()\n",
    "print(\"\\nMean Likes for each Category:\")\n",
    "print(category_likes_mean)"
   ]
  },
  {
   "cell_type": "code",
   "execution_count": 68,
   "metadata": {},
   "outputs": [
    {
     "data": {
      "image/png": "[encoded data removed]",
      "text/plain": [
       "<Figure size 576x360 with 1 Axes>"
      ]
     },
     "metadata": {
      "needs_background": "light"
     },
     "output_type": "display_data"
    }
   ],
   "source": [
    "sns.boxplot(x='Post Type', y='Comments', data=df)\n",
    "plt.title('Comments by Post Type')\n",
    "plt.show() #Comments vs Post Type"
   ]
  },
  {
   "cell_type": "code",
   "execution_count": 78,
   "metadata": {},
   "outputs": [
    {
     "name": "stdout",
     "output_type": "stream",
     "text": [
      "\n",
      "Mean of 'Comments': 4831.01\n",
      "\n",
      "Mean Likes for each Post Types:\n",
      "Post Type\n",
      "Image    4647.012195\n",
      "Text     5001.464286\n",
      "Video    4840.184524\n",
      "Name: Comments, dtype: float64\n"
     ]
    }
   ],
   "source": [
    "likes_comments = df['Comments'].mean()\n",
    "print(f\"\\nMean of 'Comments': {likes_comments:.2f}\")\n",
    "\n",
    "# Mean of 'Likes' for each Category\n",
    "category_comments_mean = df.groupby('Post Type')['Comments'].mean()\n",
    "print(\"\\nMean Likes for each Post Types:\")\n",
    "print(category_comments_mean)"
   ]
  },
  {
   "cell_type": "code",
   "execution_count": 70,
   "metadata": {},
   "outputs": [
    {
     "data": {
      "image/png": "[encoded data removed]",
      "text/plain": [
       "<Figure size 432x288 with 1 Axes>"
      ]
     },
     "metadata": {
      "needs_background": "light"
     },
     "output_type": "display_data"
    }
   ],
   "source": [
    "plt.hist(df['Age'], bins=20, color='#33FFD7')\n",
    "plt.xlabel('Age')\n",
    "plt.ylabel('Frequency')\n",
    "plt.title('Distribution of Age')\n",
    "plt.show()"
   ]
  },
  {
   "cell_type": "code",
   "execution_count": 72,
   "metadata": {},
   "outputs": [
    {
     "data": {
      "image/png": "[encoded data removed]",
      "text/plain": [
       "<Figure size 432x288 with 1 Axes>"
      ]
     },
     "metadata": {
      "needs_background": "light"
     },
     "output_type": "display_data"
    }
   ],
   "source": [
    "df_melted = pd.melt(df, id_vars=['Gender'], value_vars=['Likes', 'Comments'], var_name='Type', value_name='Value')\n",
    "sns.boxplot(x='Gender', y='Value', hue='Type', data=df_melted)\n",
    "plt.title('Likes and Comments by Gender')\n",
    "plt.show() #Likes and Comments By Gender"
   ]
  },
  {
   "cell_type": "code",
   "execution_count": 79,
   "metadata": {},
   "outputs": [
    {
     "name": "stdout",
     "output_type": "stream",
     "text": [
      "\n",
      "Mean Value for each Type (Likes and Comments combined):\n",
      "Type\n",
      "Comments    4831.014\n",
      "Likes       5182.414\n",
      "Name: Value, dtype: float64\n"
     ]
    }
   ],
   "source": [
    "type_value_mean = df_melted.groupby('Type')['Value'].mean()\n",
    "print(\"\\nMean Value for each Type (Likes and Comments combined):\")\n",
    "print(type_value_mean)"
   ]
  }
 ],
 "metadata": {
  "kernelspec": {
   "display_name": "Python 3",
   "language": "python",
   "name": "python3"
  },
  "language_info": {
   "codemirror_mode": {
    "name": "ipython",
    "version": 3
   },
   "file_extension": ".py",
   "mimetype": "text/x-python",
   "name": "python",
   "nbconvert_exporter": "python",
   "pygments_lexer": "ipython3",
   "version": "3.7.6"
  }
 },
 "nbformat": 4,
 "nbformat_minor": 4
}
